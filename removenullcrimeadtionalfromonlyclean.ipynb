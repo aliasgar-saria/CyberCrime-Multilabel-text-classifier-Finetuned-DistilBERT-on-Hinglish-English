{
 "cells": [
  {
   "cell_type": "code",
   "execution_count": 1,
   "metadata": {},
   "outputs": [],
   "source": [
    "import pandas as pd\n",
    "\n",
    "# Read the cleaned training data\n",
    "train_clean = pd.read_csv('train_clean.csv', encoding='utf-8')\n",
    "\n",
    "# Remove rows where crimeaditionalinfo is empty or null\n",
    "train_clean = train_clean[train_clean['crimeaditionalinfo'].notna() & \n",
    "                         (train_clean['crimeaditionalinfo'].str.strip() != '')]\n",
    "\n",
    "# Save the filtered dataset\n",
    "train_clean.to_csv('train_clean_filtered.csv', index=False, encoding='utf-8')"
   ]
  }
 ],
 "metadata": {
  "kernelspec": {
   "display_name": "indiaai",
   "language": "python",
   "name": "python3"
  },
  "language_info": {
   "codemirror_mode": {
    "name": "ipython",
    "version": 3
   },
   "file_extension": ".py",
   "mimetype": "text/x-python",
   "name": "python",
   "nbconvert_exporter": "python",
   "pygments_lexer": "ipython3",
   "version": "3.11.8"
  }
 },
 "nbformat": 4,
 "nbformat_minor": 2
}
