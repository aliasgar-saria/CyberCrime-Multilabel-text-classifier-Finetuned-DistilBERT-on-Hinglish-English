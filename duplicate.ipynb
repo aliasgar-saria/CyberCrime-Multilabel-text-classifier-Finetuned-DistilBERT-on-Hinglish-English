{
 "cells": [
  {
   "cell_type": "code",
   "execution_count": 2,
   "metadata": {},
   "outputs": [
    {
     "name": "stdout",
     "output_type": "stream",
     "text": [
      "Original rows: 92463\n",
      "Rows after removing duplicates: 79946\n"
     ]
    }
   ],
   "source": [
    "import pandas as pd\n",
    "\n",
    "def remove_duplicates_pandas(input_file, output_file):\n",
    "    # Read CSV file\n",
    "    df = pd.read_csv(input_file)\n",
    "    \n",
    "    # Remove duplicates and keep first occurrence\n",
    "    df_clean = df.drop_duplicates()\n",
    "    \n",
    "    # Save to new CSV file\n",
    "    df_clean.to_csv(output_file, index=False)\n",
    "    print(f\"Original rows: {len(df)}\")\n",
    "    print(f\"Rows after removing duplicates: {len(df_clean)}\")\n",
    "\n",
    "# Example usage\n",
    "remove_duplicates_pandas('combined_shuffled train wo augment.csv', 'output_no_duplicates.csv')"
   ]
  }
 ],
 "metadata": {
  "kernelspec": {
   "display_name": "indiaai",
   "language": "python",
   "name": "python3"
  },
  "language_info": {
   "codemirror_mode": {
    "name": "ipython",
    "version": 3
   },
   "file_extension": ".py",
   "mimetype": "text/x-python",
   "name": "python",
   "nbconvert_exporter": "python",
   "pygments_lexer": "ipython3",
   "version": "3.11.8"
  }
 },
 "nbformat": 4,
 "nbformat_minor": 2
}
