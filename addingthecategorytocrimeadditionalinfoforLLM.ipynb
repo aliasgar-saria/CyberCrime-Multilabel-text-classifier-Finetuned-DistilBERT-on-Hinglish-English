{
 "cells": [
  {
   "cell_type": "code",
   "execution_count": 11,
   "metadata": {},
   "outputs": [],
   "source": [
    "import pandas as pd\n",
    "\n",
    "def append_columns(csv_file):\n",
    "    # Read the CSV file\n",
    "    df = pd.read_csv(csv_file)\n",
    "    \n",
    "    # Combine category and crimeaditionalinfo columns with a space\n",
    "    df['crimeaditionalinfo'] =  df['crimeaditionalinfo'].astype(str)  + ' ' + df['category'].astype(str)\n",
    "    \n",
    "    # Save the modified DataFrame back to CSV if needed\n",
    "    df.to_csv('modified_file.csv', index=False)\n",
    "    \n",
    "    return df\n",
    "\n",
    "# Example usage\n",
    "df = append_columns('empty_subcategory.csv')"
   ]
  }
 ],
 "metadata": {
  "kernelspec": {
   "display_name": "indiaai",
   "language": "python",
   "name": "python3"
  },
  "language_info": {
   "codemirror_mode": {
    "name": "ipython",
    "version": 3
   },
   "file_extension": ".py",
   "mimetype": "text/x-python",
   "name": "python",
   "nbconvert_exporter": "python",
   "pygments_lexer": "ipython3",
   "version": "3.11.8"
  }
 },
 "nbformat": 4,
 "nbformat_minor": 2
}
