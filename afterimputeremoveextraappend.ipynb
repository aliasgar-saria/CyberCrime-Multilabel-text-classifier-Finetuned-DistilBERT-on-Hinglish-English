{
 "cells": [
  {
   "cell_type": "code",
   "execution_count": 1,
   "metadata": {},
   "outputs": [],
   "source": [
    "import pandas as pd\n",
    "\n",
    "# Read the CSV file\n",
    "df = pd.read_csv('categorized_crimes_complete.csv')\n",
    "\n",
    "# List of strings to remove\n",
    "strings_to_remove = [\n",
    "    'RapeGang Rape RGRSexually Abusive Content',\n",
    "    'Sexually Obscene material',\n",
    "    'Sexually Explicit Act',\n",
    "    'Child Pornography CPChild Sexual Abuse Material CSAM'\n",
    "]\n",
    "\n",
    "# Function to remove strings only if they appear at the end of the text\n",
    "def remove_end_strings(text):\n",
    "    if pd.isna(text):  # Handle NaN values\n",
    "        return text\n",
    "    \n",
    "    text = str(text).strip()\n",
    "    for string in strings_to_remove:\n",
    "        if text.endswith(string):\n",
    "            text = text[:-len(string)].strip()\n",
    "    return text\n",
    "\n",
    "# Apply the function to the 'crimeaditionalinfo' column\n",
    "df['crimeaditionalinfo'] = df['crimeaditionalinfo'].apply(remove_end_strings)\n",
    "\n",
    "# Save the modified dataframe back to CSV\n",
    "df.to_csv('cleaned_fileremoveappend.csv', index=False)"
   ]
  }
 ],
 "metadata": {
  "kernelspec": {
   "display_name": "indiaai",
   "language": "python",
   "name": "python3"
  },
  "language_info": {
   "codemirror_mode": {
    "name": "ipython",
    "version": 3
   },
   "file_extension": ".py",
   "mimetype": "text/x-python",
   "name": "python",
   "nbconvert_exporter": "python",
   "pygments_lexer": "ipython3",
   "version": "3.11.8"
  }
 },
 "nbformat": 4,
 "nbformat_minor": 2
}
