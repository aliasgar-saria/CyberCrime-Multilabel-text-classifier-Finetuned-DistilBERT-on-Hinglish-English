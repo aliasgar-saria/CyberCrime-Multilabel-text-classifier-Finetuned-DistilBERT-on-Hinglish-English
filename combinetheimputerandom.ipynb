{
 "cells": [
  {
   "cell_type": "code",
   "execution_count": 1,
   "metadata": {},
   "outputs": [
    {
     "name": "stdout",
     "output_type": "stream",
     "text": [
      "Original file1 rows: 6539\n",
      "Original file2 rows: 85924\n",
      "Combined shuffled rows: 92463\n"
     ]
    }
   ],
   "source": [
    "import pandas as pd\n",
    "import numpy as np\n",
    "\n",
    "# Read both CSV files\n",
    "file1 = pd.read_csv('cleaned_fileremoveappend.csv')\n",
    "file2 = pd.read_csv('train_clean_filtered.csv')\n",
    "\n",
    "# Concatenate the dataframes\n",
    "combined_df = pd.concat([file1, file2], ignore_index=True)\n",
    "\n",
    "# Shuffle the combined dataframe randomly\n",
    "shuffled_df = combined_df.sample(frac=1, random_state=117).reset_index(drop=True)\n",
    "\n",
    "# Save the shuffled combined data\n",
    "shuffled_df.to_csv('combined_shuffled train wo augment.csv', index=False)\n",
    "\n",
    "print(f\"Original file1 rows: {len(file1)}\")\n",
    "print(f\"Original file2 rows: {len(file2)}\")\n",
    "print(f\"Combined shuffled rows: {len(shuffled_df)}\")"
   ]
  }
 ],
 "metadata": {
  "kernelspec": {
   "display_name": "indiaai",
   "language": "python",
   "name": "python3"
  },
  "language_info": {
   "codemirror_mode": {
    "name": "ipython",
    "version": 3
   },
   "file_extension": ".py",
   "mimetype": "text/x-python",
   "name": "python",
   "nbconvert_exporter": "python",
   "pygments_lexer": "ipython3",
   "version": "3.11.8"
  }
 },
 "nbformat": 4,
 "nbformat_minor": 2
}
