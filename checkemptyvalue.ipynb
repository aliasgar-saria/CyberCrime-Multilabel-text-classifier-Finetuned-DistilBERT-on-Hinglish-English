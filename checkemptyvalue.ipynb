{
 "cells": [
  {
   "cell_type": "code",
   "execution_count": 11,
   "metadata": {},
   "outputs": [
    {
     "data": {
      "text/plain": [
       "{'sub_category': np.int64(13078), 'crimeaditionalinfo': np.int64(21)}"
      ]
     },
     "execution_count": 11,
     "metadata": {},
     "output_type": "execute_result"
    }
   ],
   "source": [
    "import pandas as pd\n",
    "\n",
    "# Load the dataset\n",
    "data = pd.read_csv('train_clean.csv')\n",
    "\n",
    "# Analyze the number of empty values in the specified columns\n",
    "empty_values = {\n",
    "    'sub_category': data['sub_category'].isnull().sum(),\n",
    "    'crimeaditionalinfo': data['crimeaditionalinfo'].isnull().sum()\n",
    "}\n",
    "empty_values"
   ]
  },
  {
   "cell_type": "code",
   "execution_count": 12,
   "metadata": {},
   "outputs": [
    {
     "data": {
      "text/plain": [
       "{'sub_category': np.int64(0), 'crimeaditionalinfo': np.int64(21)}"
      ]
     },
     "execution_count": 12,
     "metadata": {},
     "output_type": "execute_result"
    }
   ],
   "source": [
    "import pandas as pd\n",
    "\n",
    "# Load the dataset\n",
    "data = pd.read_csv('imputed_train.csv')\n",
    "\n",
    "# Analyze the number of empty values in the specified columns\n",
    "empty_values = {\n",
    "    'sub_category': data['sub_category'].isnull().sum(),\n",
    "    'crimeaditionalinfo': data['crimeaditionalinfo'].isnull().sum()\n",
    "}\n",
    "empty_values"
   ]
  },
  {
   "cell_type": "code",
   "execution_count": 13,
   "metadata": {},
   "outputs": [
    {
     "name": "stdout",
     "output_type": "stream",
     "text": [
      "                     category                          sub_category  \\\n",
      "697    Financial Fraud Crimes                    UPI Related Frauds   \n",
      "795     Any Other Cyber Crime                                 Other   \n",
      "4052   Financial Fraud Crimes  DebitCredit Card FraudSim Swap Fraud   \n",
      "5714   Financial Fraud Crimes                    UPI Related Frauds   \n",
      "10374  Financial Fraud Crimes                     Fraud CallVishing   \n",
      "23730  Financial Fraud Crimes                    UPI Related Frauds   \n",
      "34549  Financial Fraud Crimes                    UPI Related Frauds   \n",
      "35074       Other Cyber Crime             Cheating by Impersonation   \n",
      "46958  Financial Fraud Crimes        Internet Banking Related Fraud   \n",
      "52855  Financial Fraud Crimes  DebitCredit Card FraudSim Swap Fraud   \n",
      "58904  Financial Fraud Crimes                    UPI Related Frauds   \n",
      "59273  Financial Fraud Crimes  DebitCredit Card FraudSim Swap Fraud   \n",
      "60397  Financial Fraud Crimes                    UPI Related Frauds   \n",
      "62930  Financial Fraud Crimes                    UPI Related Frauds   \n",
      "71469  Financial Fraud Crimes                    UPI Related Frauds   \n",
      "72601  Financial Fraud Crimes                    UPI Related Frauds   \n",
      "76557  Financial Fraud Crimes                    UPI Related Frauds   \n",
      "77702  Financial Fraud Crimes                    UPI Related Frauds   \n",
      "80412  Financial Fraud Crimes                    UPI Related Frauds   \n",
      "84346       Other Cyber Crime        Profile Hacking Identity Theft   \n",
      "86214  Financial Fraud Crimes                    UPI Related Frauds   \n",
      "\n",
      "      crimeaditionalinfo  \n",
      "697                  NaN  \n",
      "795                  NaN  \n",
      "4052                 NaN  \n",
      "5714                 NaN  \n",
      "10374                NaN  \n",
      "23730                NaN  \n",
      "34549                NaN  \n",
      "35074                NaN  \n",
      "46958                NaN  \n",
      "52855                NaN  \n",
      "58904                NaN  \n",
      "59273                NaN  \n",
      "60397                NaN  \n",
      "62930                NaN  \n",
      "71469                NaN  \n",
      "72601                NaN  \n",
      "76557                NaN  \n",
      "77702                NaN  \n",
      "80412                NaN  \n",
      "84346                NaN  \n",
      "86214                NaN  \n"
     ]
    }
   ],
   "source": [
    "# Load the data\n",
    "train_df = pd.read_csv('imputed_train.csv')\n",
    "\n",
    "# Show rows where crimeaditionalinfo is null\n",
    "null_rows = train_df[train_df['crimeaditionalinfo'].isnull()]\n",
    "print(null_rows)"
   ]
  },
  {
   "cell_type": "code",
   "execution_count": 16,
   "metadata": {},
   "outputs": [
    {
     "name": "stdout",
     "output_type": "stream",
     "text": [
      "Shape before dropping: (184926, 3)\n",
      "Shape after dropping: (184926, 3)\n"
     ]
    }
   ],
   "source": [
    "# Show rows before dropping\n",
    "print(\"Shape before dropping:\", train_df.shape)\n",
    "\n",
    "# Drop rows where crimeaditionalinfo is null\n",
    "train_df = train_df.dropna(subset=['crimeaditionalinfo'], inplace=False)\n",
    "\n",
    "# Show remaining rows\n",
    "print(\"Shape after dropping:\", train_df.shape)"
   ]
  },
  {
   "cell_type": "code",
   "execution_count": 17,
   "metadata": {},
   "outputs": [
    {
     "name": "stdout",
     "output_type": "stream",
     "text": [
      "Shape before dropping: (184926, 3)\n",
      "Shape after dropping: (184926, 3)\n"
     ]
    }
   ],
   "source": [
    "# Show initial shape\n",
    "print(\"Shape before dropping:\", train_df.shape)\n",
    "\n",
    "# Drop rows with null values in crimeaditionalinfo column\n",
    "train_df = train_df.dropna(subset=['crimeaditionalinfo'])\n",
    "\n",
    "# Show new shape\n",
    "print(\"Shape after dropping:\", train_df.shape)\n",
    "\n",
    "# Save the cleaned dataset\n",
    "train_df.to_csv('cleaned_train.csv', index=False)"
   ]
  }
 ],
 "metadata": {
  "kernelspec": {
   "display_name": "indiaai",
   "language": "python",
   "name": "python3"
  },
  "language_info": {
   "codemirror_mode": {
    "name": "ipython",
    "version": 3
   },
   "file_extension": ".py",
   "mimetype": "text/x-python",
   "name": "python",
   "nbconvert_exporter": "python",
   "pygments_lexer": "ipython3",
   "version": "3.11.8"
  }
 },
 "nbformat": 4,
 "nbformat_minor": 2
}
