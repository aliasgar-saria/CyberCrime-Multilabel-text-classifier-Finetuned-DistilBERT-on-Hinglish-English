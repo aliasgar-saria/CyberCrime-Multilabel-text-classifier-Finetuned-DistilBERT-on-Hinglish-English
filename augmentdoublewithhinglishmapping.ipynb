{
 "cells": [
  {
   "cell_type": "code",
   "execution_count": 2,
   "metadata": {},
   "outputs": [
    {
     "name": "stdout",
     "output_type": "stream",
     "text": [
      "Original rows: 92463\n",
      "Final rows after augmentation: 117334\n"
     ]
    }
   ],
   "source": [
    "import pandas as pd\n",
    "import json\n",
    "\n",
    "def augment_text(text, hinglish_mappings):\n",
    "    \"\"\"Convert Hinglish text to English using mappings\"\"\"\n",
    "    if pd.isna(text) or not isinstance(text, str):\n",
    "        return ''\n",
    "    words = text.lower().strip().split()\n",
    "    augmented_words = [hinglish_mappings.get(word.lower(), word) for word in words]\n",
    "    return ' '.join(augmented_words)\n",
    "\n",
    "# Read the dataset\n",
    "df = pd.read_csv('combined_shuffled train wo augment.csv')\n",
    "\n",
    "# Create augmented dataframe with the same structure\n",
    "augmented_df = df.copy()\n",
    "\n",
    "# Load Hinglish mappings from JSON file\n",
    "with open('hinglish_mappings.json', 'r', encoding='utf-8') as f:\n",
    "    hinglish_mappings = json.load(f)\n",
    "\n",
    "# Apply Hinglish mapping only to crimeaditionalinfo column\n",
    "augmented_df['crimeaditionalinfo'] = augmented_df['crimeaditionalinfo'].apply(\n",
    "    lambda x: augment_text(x, hinglish_mappings)\n",
    ")\n",
    "\n",
    "# Concatenate original and augmented dataframes\n",
    "final_df = pd.concat([df, augmented_df], ignore_index=True)\n",
    "\n",
    "# Remove duplicate rows based on crimeaditionalinfo to avoid exact duplicates\n",
    "final_df = final_df.drop_duplicates(subset=['crimeaditionalinfo'])\n",
    "\n",
    "# Save augmented dataset\n",
    "final_df.to_csv('train_augmented.csv', index=False)\n",
    "\n",
    "print(f\"Original rows: {len(df)}\")\n",
    "print(f\"Final rows after augmentation: {len(final_df)}\")"
   ]
  }
 ],
 "metadata": {
  "kernelspec": {
   "display_name": "indiaai",
   "language": "python",
   "name": "python3"
  },
  "language_info": {
   "codemirror_mode": {
    "name": "ipython",
    "version": 3
   },
   "file_extension": ".py",
   "mimetype": "text/x-python",
   "name": "python",
   "nbconvert_exporter": "python",
   "pygments_lexer": "ipython3",
   "version": "3.11.8"
  }
 },
 "nbformat": 4,
 "nbformat_minor": 2
}
